{
 "cells": [
  {
   "cell_type": "code",
   "execution_count": 1,
   "metadata": {},
   "outputs": [],
   "source": [
    "import pandas as pd\n",
    "import numpy as np\n",
    "import matplotlib.pyplot as plt\n"
   ]
  },
  {
   "cell_type": "code",
   "execution_count": 2,
   "metadata": {},
   "outputs": [],
   "source": [
    "data = pd.read_csv(r\"d:\\pizza_sales.csv\")"
   ]
  },
  {
   "cell_type": "code",
   "execution_count": 3,
   "metadata": {},
   "outputs": [
    {
     "data": {
      "text/html": [
       "<div>\n",
       "<style scoped>\n",
       "    .dataframe tbody tr th:only-of-type {\n",
       "        vertical-align: middle;\n",
       "    }\n",
       "\n",
       "    .dataframe tbody tr th {\n",
       "        vertical-align: top;\n",
       "    }\n",
       "\n",
       "    .dataframe thead th {\n",
       "        text-align: right;\n",
       "    }\n",
       "</style>\n",
       "<table border=\"1\" class=\"dataframe\">\n",
       "  <thead>\n",
       "    <tr style=\"text-align: right;\">\n",
       "      <th></th>\n",
       "      <th>pizza_id</th>\n",
       "      <th>order_id</th>\n",
       "      <th>pizza_name_id</th>\n",
       "      <th>quantity</th>\n",
       "      <th>order_date</th>\n",
       "      <th>order_time</th>\n",
       "      <th>unit_price</th>\n",
       "      <th>total_price</th>\n",
       "      <th>pizza_size</th>\n",
       "      <th>pizza_category</th>\n",
       "      <th>pizza_ingredients</th>\n",
       "      <th>pizza_name</th>\n",
       "    </tr>\n",
       "  </thead>\n",
       "  <tbody>\n",
       "    <tr>\n",
       "      <th>0</th>\n",
       "      <td>1</td>\n",
       "      <td>1</td>\n",
       "      <td>hawaiian_m</td>\n",
       "      <td>1</td>\n",
       "      <td>2015-01-01</td>\n",
       "      <td>11:38:36</td>\n",
       "      <td>13.25</td>\n",
       "      <td>13.25</td>\n",
       "      <td>M</td>\n",
       "      <td>Classic</td>\n",
       "      <td>Sliced Ham, Pineapple, Mozzarella Cheese</td>\n",
       "      <td>The Hawaiian Pizza</td>\n",
       "    </tr>\n",
       "    <tr>\n",
       "      <th>1</th>\n",
       "      <td>2</td>\n",
       "      <td>2</td>\n",
       "      <td>classic_dlx_m</td>\n",
       "      <td>1</td>\n",
       "      <td>2015-01-01</td>\n",
       "      <td>11:57:40</td>\n",
       "      <td>16.00</td>\n",
       "      <td>16.00</td>\n",
       "      <td>M</td>\n",
       "      <td>Classic</td>\n",
       "      <td>Pepperoni, Mushrooms, Red Onions, Red Peppers,...</td>\n",
       "      <td>The Classic Deluxe Pizza</td>\n",
       "    </tr>\n",
       "    <tr>\n",
       "      <th>2</th>\n",
       "      <td>3</td>\n",
       "      <td>2</td>\n",
       "      <td>five_cheese_l</td>\n",
       "      <td>1</td>\n",
       "      <td>2015-01-01</td>\n",
       "      <td>11:57:40</td>\n",
       "      <td>18.50</td>\n",
       "      <td>18.50</td>\n",
       "      <td>L</td>\n",
       "      <td>Veggie</td>\n",
       "      <td>Mozzarella Cheese, Provolone Cheese, Smoked Go...</td>\n",
       "      <td>The Five Cheese Pizza</td>\n",
       "    </tr>\n",
       "    <tr>\n",
       "      <th>3</th>\n",
       "      <td>4</td>\n",
       "      <td>2</td>\n",
       "      <td>ital_supr_l</td>\n",
       "      <td>1</td>\n",
       "      <td>2015-01-01</td>\n",
       "      <td>11:57:40</td>\n",
       "      <td>20.75</td>\n",
       "      <td>20.75</td>\n",
       "      <td>L</td>\n",
       "      <td>Supreme</td>\n",
       "      <td>Calabrese Salami, Capocollo, Tomatoes, Red Oni...</td>\n",
       "      <td>The Italian Supreme Pizza</td>\n",
       "    </tr>\n",
       "    <tr>\n",
       "      <th>4</th>\n",
       "      <td>5</td>\n",
       "      <td>2</td>\n",
       "      <td>mexicana_m</td>\n",
       "      <td>1</td>\n",
       "      <td>2015-01-01</td>\n",
       "      <td>11:57:40</td>\n",
       "      <td>16.00</td>\n",
       "      <td>16.00</td>\n",
       "      <td>M</td>\n",
       "      <td>Veggie</td>\n",
       "      <td>Tomatoes, Red Peppers, Jalapeno Peppers, Red O...</td>\n",
       "      <td>The Mexicana Pizza</td>\n",
       "    </tr>\n",
       "  </tbody>\n",
       "</table>\n",
       "</div>"
      ],
      "text/plain": [
       "   pizza_id  order_id  pizza_name_id  quantity  order_date order_time  \\\n",
       "0         1         1     hawaiian_m         1  2015-01-01   11:38:36   \n",
       "1         2         2  classic_dlx_m         1  2015-01-01   11:57:40   \n",
       "2         3         2  five_cheese_l         1  2015-01-01   11:57:40   \n",
       "3         4         2    ital_supr_l         1  2015-01-01   11:57:40   \n",
       "4         5         2     mexicana_m         1  2015-01-01   11:57:40   \n",
       "\n",
       "   unit_price  total_price pizza_size pizza_category  \\\n",
       "0       13.25        13.25          M        Classic   \n",
       "1       16.00        16.00          M        Classic   \n",
       "2       18.50        18.50          L         Veggie   \n",
       "3       20.75        20.75          L        Supreme   \n",
       "4       16.00        16.00          M         Veggie   \n",
       "\n",
       "                                   pizza_ingredients  \\\n",
       "0           Sliced Ham, Pineapple, Mozzarella Cheese   \n",
       "1  Pepperoni, Mushrooms, Red Onions, Red Peppers,...   \n",
       "2  Mozzarella Cheese, Provolone Cheese, Smoked Go...   \n",
       "3  Calabrese Salami, Capocollo, Tomatoes, Red Oni...   \n",
       "4  Tomatoes, Red Peppers, Jalapeno Peppers, Red O...   \n",
       "\n",
       "                  pizza_name  \n",
       "0         The Hawaiian Pizza  \n",
       "1   The Classic Deluxe Pizza  \n",
       "2      The Five Cheese Pizza  \n",
       "3  The Italian Supreme Pizza  \n",
       "4         The Mexicana Pizza  "
      ]
     },
     "execution_count": 3,
     "metadata": {},
     "output_type": "execute_result"
    }
   ],
   "source": [
    "data.head()"
   ]
  },
  {
   "cell_type": "code",
   "execution_count": 4,
   "metadata": {},
   "outputs": [
    {
     "name": "stdout",
     "output_type": "stream",
     "text": [
      "<class 'pandas.core.frame.DataFrame'>\n",
      "RangeIndex: 48620 entries, 0 to 48619\n",
      "Data columns (total 12 columns):\n",
      " #   Column             Non-Null Count  Dtype  \n",
      "---  ------             --------------  -----  \n",
      " 0   pizza_id           48620 non-null  int64  \n",
      " 1   order_id           48620 non-null  int64  \n",
      " 2   pizza_name_id      48620 non-null  object \n",
      " 3   quantity           48620 non-null  int64  \n",
      " 4   order_date         48620 non-null  object \n",
      " 5   order_time         48620 non-null  object \n",
      " 6   unit_price         48620 non-null  float64\n",
      " 7   total_price        48620 non-null  float64\n",
      " 8   pizza_size         48620 non-null  object \n",
      " 9   pizza_category     48620 non-null  object \n",
      " 10  pizza_ingredients  48620 non-null  object \n",
      " 11  pizza_name         48620 non-null  object \n",
      "dtypes: float64(2), int64(3), object(7)\n",
      "memory usage: 4.5+ MB\n"
     ]
    }
   ],
   "source": [
    "data.info()"
   ]
  },
  {
   "cell_type": "code",
   "execution_count": 5,
   "metadata": {},
   "outputs": [
    {
     "data": {
      "text/plain": [
       "817860.05"
      ]
     },
     "execution_count": 5,
     "metadata": {},
     "output_type": "execute_result"
    }
   ],
   "source": [
    "total_revenue = data[\"total_price\"].sum()\n",
    "total_revenue"
   ]
  },
  {
   "cell_type": "code",
   "execution_count": 6,
   "metadata": {},
   "outputs": [
    {
     "data": {
      "text/plain": [
       "49574"
      ]
     },
     "execution_count": 6,
     "metadata": {},
     "output_type": "execute_result"
    }
   ],
   "source": [
    "total_sold = data[\"quantity\"].sum()\n",
    "total_sold"
   ]
  },
  {
   "cell_type": "code",
   "execution_count": 7,
   "metadata": {},
   "outputs": [
    {
     "data": {
      "text/plain": [
       "21350"
      ]
     },
     "execution_count": 7,
     "metadata": {},
     "output_type": "execute_result"
    }
   ],
   "source": [
    "total_order = data[\"order_id\"].nunique()\n",
    "total_order\n"
   ]
  },
  {
   "cell_type": "code",
   "execution_count": 8,
   "metadata": {},
   "outputs": [
    {
     "data": {
      "text/plain": [
       "pizza_category\n",
       "Chicken    195919.50\n",
       "Classic    220053.10\n",
       "Supreme    208197.00\n",
       "Veggie     193690.45\n",
       "Name: total_price, dtype: float64"
      ]
     },
     "execution_count": 8,
     "metadata": {},
     "output_type": "execute_result"
    }
   ],
   "source": [
    "ct_pi_re = data.groupby(data[\"pizza_category\"])[\"total_price\"].sum()\n",
    "ct_pi_re"
   ]
  },
  {
   "cell_type": "code",
   "execution_count": 9,
   "metadata": {},
   "outputs": [
    {
     "data": {
      "text/plain": [
       "pizza_size\n",
       "L      375318.70\n",
       "M      249382.25\n",
       "S      178076.50\n",
       "XL      14076.00\n",
       "XXL      1006.60\n",
       "Name: total_price, dtype: float64"
      ]
     },
     "execution_count": 9,
     "metadata": {},
     "output_type": "execute_result"
    }
   ],
   "source": [
    "sz_pi_re = data.groupby(data[\"pizza_size\"])[\"total_price\"].sum()\n",
    "sz_pi_re"
   ]
  },
  {
   "cell_type": "code",
   "execution_count": 10,
   "metadata": {},
   "outputs": [
    {
     "data": {
      "text/plain": [
       "pizza_name\n",
       "The Thai Chicken Pizza                        43434.25\n",
       "The Barbecue Chicken Pizza                    42768.00\n",
       "The California Chicken Pizza                  41409.50\n",
       "The Classic Deluxe Pizza                      38180.50\n",
       "The Spicy Italian Pizza                       34831.25\n",
       "The Southwest Chicken Pizza                   34705.75\n",
       "The Italian Supreme Pizza                     33476.75\n",
       "The Hawaiian Pizza                            32273.25\n",
       "The Four Cheese Pizza                         32265.70\n",
       "The Sicilian Pizza                            30940.50\n",
       "The Pepperoni Pizza                           30161.75\n",
       "The Greek Pizza                               28454.10\n",
       "The Mexicana Pizza                            26780.75\n",
       "The Five Cheese Pizza                         26066.50\n",
       "The Pepper Salami Pizza                       25529.00\n",
       "The Italian Capocollo Pizza                   25094.00\n",
       "The Vegetables + Vegetables Pizza             24374.75\n",
       "The Prosciutto and Arugula Pizza              24193.25\n",
       "The Napolitana Pizza                          24087.00\n",
       "The Spinach and Feta Pizza                    23271.25\n",
       "The Big Meat Pizza                            22968.00\n",
       "The Pepperoni, Mushroom, and Peppers Pizza    18834.50\n",
       "The Chicken Alfredo Pizza                     16900.25\n",
       "The Chicken Pesto Pizza                       16701.75\n",
       "The Soppressata Pizza                         16425.75\n",
       "The Italian Vegetables Pizza                  16019.25\n",
       "The Calabrese Pizza                           15934.25\n",
       "The Spinach Pesto Pizza                       15596.00\n",
       "The Mediterranean Pizza                       15360.50\n",
       "The Spinach Supreme Pizza                     15277.75\n",
       "The Green Garden Pizza                        13955.75\n",
       "The Brie Carre Pizza                          11588.50\n",
       "Name: total_price, dtype: float64"
      ]
     },
     "execution_count": 10,
     "metadata": {},
     "output_type": "execute_result"
    }
   ],
   "source": [
    "pizza_re = data.groupby(\"pizza_name\")[\"total_price\"].sum().sort_values(ascending = False)\n",
    "pizza_re"
   ]
  },
  {
   "cell_type": "code",
   "execution_count": 11,
   "metadata": {},
   "outputs": [
    {
     "data": {
      "text/plain": [
       "pizza_name\n",
       "The Classic Deluxe Pizza                      2453\n",
       "The Barbecue Chicken Pizza                    2432\n",
       "The Hawaiian Pizza                            2422\n",
       "The Pepperoni Pizza                           2418\n",
       "The Thai Chicken Pizza                        2371\n",
       "The California Chicken Pizza                  2370\n",
       "The Sicilian Pizza                            1938\n",
       "The Spicy Italian Pizza                       1924\n",
       "The Southwest Chicken Pizza                   1917\n",
       "The Big Meat Pizza                            1914\n",
       "The Four Cheese Pizza                         1902\n",
       "The Italian Supreme Pizza                     1884\n",
       "The Vegetables + Vegetables Pizza             1526\n",
       "The Mexicana Pizza                            1484\n",
       "The Napolitana Pizza                          1464\n",
       "The Prosciutto and Arugula Pizza              1457\n",
       "The Spinach and Feta Pizza                    1446\n",
       "The Pepper Salami Pizza                       1446\n",
       "The Italian Capocollo Pizza                   1438\n",
       "The Greek Pizza                               1420\n",
       "The Five Cheese Pizza                         1409\n",
       "The Pepperoni, Mushroom, and Peppers Pizza    1359\n",
       "The Green Garden Pizza                         997\n",
       "The Chicken Alfredo Pizza                      987\n",
       "The Italian Vegetables Pizza                   981\n",
       "The Chicken Pesto Pizza                        973\n",
       "The Spinach Pesto Pizza                        970\n",
       "The Soppressata Pizza                          961\n",
       "The Spinach Supreme Pizza                      950\n",
       "The Calabrese Pizza                            937\n",
       "The Mediterranean Pizza                        934\n",
       "The Brie Carre Pizza                           490\n",
       "Name: quantity, dtype: int64"
      ]
     },
     "execution_count": 11,
     "metadata": {},
     "output_type": "execute_result"
    }
   ],
   "source": [
    "pizza_sold = data.groupby(\"pizza_name\")[\"quantity\"].sum().sort_values(ascending = False)\n",
    "pizza_sold\n"
   ]
  },
  {
   "cell_type": "code",
   "execution_count": 12,
   "metadata": {},
   "outputs": [
    {
     "data": {
      "text/plain": [
       "pizza_size\n",
       "L      18956\n",
       "M      15635\n",
       "S      14403\n",
       "XL       552\n",
       "XXL       28\n",
       "Name: quantity, dtype: int64"
      ]
     },
     "execution_count": 12,
     "metadata": {},
     "output_type": "execute_result"
    }
   ],
   "source": [
    "pizza_size_sold = data.groupby(\"pizza_size\")[\"quantity\"].sum()\n",
    "pizza_size_sold"
   ]
  },
  {
   "cell_type": "code",
   "execution_count": 53,
   "metadata": {},
   "outputs": [
    {
     "data": {
      "text/plain": [
       "pizza_category\n",
       "Chicken    11050\n",
       "Classic    14888\n",
       "Supreme    11987\n",
       "Veggie     11649\n",
       "Name: quantity, dtype: int64"
      ]
     },
     "execution_count": 53,
     "metadata": {},
     "output_type": "execute_result"
    }
   ],
   "source": [
    "pizza_cw_sold = data.groupby(\"pizza_category\")[\"quantity\"].sum()\n",
    "pizza_cw_sold"
   ]
  },
  {
   "cell_type": "code",
   "execution_count": 44,
   "metadata": {},
   "outputs": [
    {
     "data": {
      "text/plain": [
       "38.30726229508197"
      ]
     },
     "execution_count": 44,
     "metadata": {},
     "output_type": "execute_result"
    }
   ],
   "source": [
    "avg_order_value = total_revenue/ total_order\n",
    "avg_order_value"
   ]
  },
  {
   "cell_type": "code",
   "execution_count": 15,
   "metadata": {},
   "outputs": [
    {
     "data": {
      "text/plain": [
       "2.321967213114754"
      ]
     },
     "execution_count": 15,
     "metadata": {},
     "output_type": "execute_result"
    }
   ],
   "source": [
    "avg_order = total_sold/ total_order\n",
    "avg_order\n"
   ]
  },
  {
   "cell_type": "code",
   "execution_count": 16,
   "metadata": {},
   "outputs": [
    {
     "data": {
      "text/html": [
       "<div>\n",
       "<style scoped>\n",
       "    .dataframe tbody tr th:only-of-type {\n",
       "        vertical-align: middle;\n",
       "    }\n",
       "\n",
       "    .dataframe tbody tr th {\n",
       "        vertical-align: top;\n",
       "    }\n",
       "\n",
       "    .dataframe thead th {\n",
       "        text-align: right;\n",
       "    }\n",
       "</style>\n",
       "<table border=\"1\" class=\"dataframe\">\n",
       "  <thead>\n",
       "    <tr style=\"text-align: right;\">\n",
       "      <th></th>\n",
       "      <th>pizza_id</th>\n",
       "      <th>order_id</th>\n",
       "      <th>pizza_name_id</th>\n",
       "      <th>quantity</th>\n",
       "      <th>order_date</th>\n",
       "      <th>order_time</th>\n",
       "      <th>unit_price</th>\n",
       "      <th>total_price</th>\n",
       "      <th>pizza_size</th>\n",
       "      <th>pizza_category</th>\n",
       "      <th>pizza_ingredients</th>\n",
       "      <th>pizza_name</th>\n",
       "    </tr>\n",
       "  </thead>\n",
       "  <tbody>\n",
       "    <tr>\n",
       "      <th>0</th>\n",
       "      <td>1</td>\n",
       "      <td>1</td>\n",
       "      <td>hawaiian_m</td>\n",
       "      <td>1</td>\n",
       "      <td>2015-01-01</td>\n",
       "      <td>11:38:36</td>\n",
       "      <td>13.25</td>\n",
       "      <td>13.25</td>\n",
       "      <td>M</td>\n",
       "      <td>Classic</td>\n",
       "      <td>Sliced Ham, Pineapple, Mozzarella Cheese</td>\n",
       "      <td>The Hawaiian Pizza</td>\n",
       "    </tr>\n",
       "    <tr>\n",
       "      <th>1</th>\n",
       "      <td>2</td>\n",
       "      <td>2</td>\n",
       "      <td>classic_dlx_m</td>\n",
       "      <td>1</td>\n",
       "      <td>2015-01-01</td>\n",
       "      <td>11:57:40</td>\n",
       "      <td>16.00</td>\n",
       "      <td>16.00</td>\n",
       "      <td>M</td>\n",
       "      <td>Classic</td>\n",
       "      <td>Pepperoni, Mushrooms, Red Onions, Red Peppers,...</td>\n",
       "      <td>The Classic Deluxe Pizza</td>\n",
       "    </tr>\n",
       "    <tr>\n",
       "      <th>2</th>\n",
       "      <td>3</td>\n",
       "      <td>2</td>\n",
       "      <td>five_cheese_l</td>\n",
       "      <td>1</td>\n",
       "      <td>2015-01-01</td>\n",
       "      <td>11:57:40</td>\n",
       "      <td>18.50</td>\n",
       "      <td>18.50</td>\n",
       "      <td>L</td>\n",
       "      <td>Veggie</td>\n",
       "      <td>Mozzarella Cheese, Provolone Cheese, Smoked Go...</td>\n",
       "      <td>The Five Cheese Pizza</td>\n",
       "    </tr>\n",
       "    <tr>\n",
       "      <th>3</th>\n",
       "      <td>4</td>\n",
       "      <td>2</td>\n",
       "      <td>ital_supr_l</td>\n",
       "      <td>1</td>\n",
       "      <td>2015-01-01</td>\n",
       "      <td>11:57:40</td>\n",
       "      <td>20.75</td>\n",
       "      <td>20.75</td>\n",
       "      <td>L</td>\n",
       "      <td>Supreme</td>\n",
       "      <td>Calabrese Salami, Capocollo, Tomatoes, Red Oni...</td>\n",
       "      <td>The Italian Supreme Pizza</td>\n",
       "    </tr>\n",
       "    <tr>\n",
       "      <th>4</th>\n",
       "      <td>5</td>\n",
       "      <td>2</td>\n",
       "      <td>mexicana_m</td>\n",
       "      <td>1</td>\n",
       "      <td>2015-01-01</td>\n",
       "      <td>11:57:40</td>\n",
       "      <td>16.00</td>\n",
       "      <td>16.00</td>\n",
       "      <td>M</td>\n",
       "      <td>Veggie</td>\n",
       "      <td>Tomatoes, Red Peppers, Jalapeno Peppers, Red O...</td>\n",
       "      <td>The Mexicana Pizza</td>\n",
       "    </tr>\n",
       "  </tbody>\n",
       "</table>\n",
       "</div>"
      ],
      "text/plain": [
       "   pizza_id  order_id  pizza_name_id  quantity  order_date order_time  \\\n",
       "0         1         1     hawaiian_m         1  2015-01-01   11:38:36   \n",
       "1         2         2  classic_dlx_m         1  2015-01-01   11:57:40   \n",
       "2         3         2  five_cheese_l         1  2015-01-01   11:57:40   \n",
       "3         4         2    ital_supr_l         1  2015-01-01   11:57:40   \n",
       "4         5         2     mexicana_m         1  2015-01-01   11:57:40   \n",
       "\n",
       "   unit_price  total_price pizza_size pizza_category  \\\n",
       "0       13.25        13.25          M        Classic   \n",
       "1       16.00        16.00          M        Classic   \n",
       "2       18.50        18.50          L         Veggie   \n",
       "3       20.75        20.75          L        Supreme   \n",
       "4       16.00        16.00          M         Veggie   \n",
       "\n",
       "                                   pizza_ingredients  \\\n",
       "0           Sliced Ham, Pineapple, Mozzarella Cheese   \n",
       "1  Pepperoni, Mushrooms, Red Onions, Red Peppers,...   \n",
       "2  Mozzarella Cheese, Provolone Cheese, Smoked Go...   \n",
       "3  Calabrese Salami, Capocollo, Tomatoes, Red Oni...   \n",
       "4  Tomatoes, Red Peppers, Jalapeno Peppers, Red O...   \n",
       "\n",
       "                  pizza_name  \n",
       "0         The Hawaiian Pizza  \n",
       "1   The Classic Deluxe Pizza  \n",
       "2      The Five Cheese Pizza  \n",
       "3  The Italian Supreme Pizza  \n",
       "4         The Mexicana Pizza  "
      ]
     },
     "execution_count": 16,
     "metadata": {},
     "output_type": "execute_result"
    }
   ],
   "source": [
    "data.head()"
   ]
  },
  {
   "cell_type": "markdown",
   "metadata": {},
   "source": [
    "## Addind Data Columns"
   ]
  },
  {
   "cell_type": "code",
   "execution_count": 17,
   "metadata": {},
   "outputs": [],
   "source": [
    "data[\"order_date\"] = pd.to_datetime(data[\"order_date\"])"
   ]
  },
  {
   "cell_type": "code",
   "execution_count": 18,
   "metadata": {},
   "outputs": [],
   "source": [
    "data[\"order_month\"] = data.order_date.dt.month"
   ]
  },
  {
   "cell_type": "code",
   "execution_count": 19,
   "metadata": {},
   "outputs": [],
   "source": [
    "data[\"order_day\"] = data.order_date.dt.dayofweek"
   ]
  },
  {
   "cell_type": "code",
   "execution_count": 20,
   "metadata": {},
   "outputs": [],
   "source": [
    "week_name = { 1 :'Tuesday',\n",
    "             2 : \"Wednesday\",\n",
    "             3 : \"Thursday\",\n",
    "             4 : \"Friday\",\n",
    "             5 : \"Saturday\",\n",
    "             6 : \"Sunday\",\n",
    "             0 : \"Monday\"}"
   ]
  },
  {
   "cell_type": "code",
   "execution_count": 21,
   "metadata": {},
   "outputs": [],
   "source": [
    "data['order_day_name'] = data['order_day'].map(week_name)"
   ]
  },
  {
   "cell_type": "code",
   "execution_count": 36,
   "metadata": {},
   "outputs": [
    {
     "data": {
      "text/plain": [
       "order_day_name\n",
       "Friday       3538\n",
       "Monday       2794\n",
       "Saturday     3158\n",
       "Sunday       2624\n",
       "Thursday     3239\n",
       "Tuesday      2973\n",
       "Wednesday    3024\n",
       "Name: order_id, dtype: int64"
      ]
     },
     "execution_count": 36,
     "metadata": {},
     "output_type": "execute_result"
    }
   ],
   "source": [
    "weekly_trend = data.groupby(\"order_day_name\")[\"order_id\"].nunique()\n",
    "weekly_trend"
   ]
  },
  {
   "cell_type": "code",
   "execution_count": 35,
   "metadata": {},
   "outputs": [
    {
     "data": {
      "text/plain": [
       "order_month\n",
       "1     1845\n",
       "2     1685\n",
       "3     1840\n",
       "4     1799\n",
       "5     1853\n",
       "6     1773\n",
       "7     1935\n",
       "8     1841\n",
       "9     1661\n",
       "10    1646\n",
       "11    1792\n",
       "12    1680\n",
       "Name: order_id, dtype: int64"
      ]
     },
     "execution_count": 35,
     "metadata": {},
     "output_type": "execute_result"
    }
   ],
   "source": [
    "monthly_trand= data.groupby(\"order_month\")[\"order_id\"].nunique()\n",
    "monthly_trand"
   ]
  }
 ],
 "metadata": {
  "kernelspec": {
   "display_name": "Python 3",
   "language": "python",
   "name": "python3"
  },
  "language_info": {
   "codemirror_mode": {
    "name": "ipython",
    "version": 3
   },
   "file_extension": ".py",
   "mimetype": "text/x-python",
   "name": "python",
   "nbconvert_exporter": "python",
   "pygments_lexer": "ipython3",
   "version": "3.12.4"
  }
 },
 "nbformat": 4,
 "nbformat_minor": 2
}
